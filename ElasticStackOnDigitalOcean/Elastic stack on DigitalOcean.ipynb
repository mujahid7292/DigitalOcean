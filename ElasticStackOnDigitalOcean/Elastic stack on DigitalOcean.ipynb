{
 "cells": [
  {
   "cell_type": "markdown",
   "metadata": {},
   "source": [
    "We will use Ubuntu 16.04.4 x64 with 4cpu. Now we will foloow NodeJs DO server set up tutorial."
   ]
  },
  {
   "cell_type": "markdown",
   "metadata": {},
   "source": [
    "# Install ElasticSearch"
   ]
  },
  {
   "cell_type": "markdown",
   "metadata": {},
   "source": [
    "<li>First install java jre by command=> <b>sudo apt-get install openjdk-8-jre\n",
    "</b></li><br/>\n",
    "\n",
    "<li>Now Download and install the public signing key by command=> <b>wget -qO - https://artifacts.elastic.co/GPG-KEY-elasticsearch | sudo apt-key add -</b></li><br/>\n",
    "\n",
    "<li>You need to install the `apt-transport-https` package on Ubuntu before proceeding:=> <b>sudo apt-get install apt-transport-https</b></li><br/>\n",
    "\n",
    "<li>Save the repository definition to /etc/apt/sources.list.d/elastic-6.x.list:=> <b>echo \"deb https://artifacts.elastic.co/packages/6.x/apt stable main\" | sudo tee -a /etc/apt/sources.list.d/elastic-6.x.list\n",
    "</b></li><br/>\n",
    "\n",
    "<li>Now we can install the Elasticsearch Debian package with:=> <b>sudo apt-get update && sudo apt-get install elasticsearch</b></li><br/>\n",
    "\n",
    "<li>Now open the elasticsearch.yml file with nano text editor. Command=> <b>sudo nano /etc/elasticsearch/elasticsearch.yml</b> | We will set our setting later.</li><br/>\n",
    "\n",
    "<li>Before installing the x-pack package, first check our JAVA version <b>java --version</b></li><br/>\n",
    "\n",
    "<li>Now go to bin directory=> <b>cd /usr/share/elasticsearch/bin/\n",
    "</b></li><br/>\n",
    "\n",
    "<li>Run command=> <b>sudo ./elasticsearch-plugin install x-pack</b></li><br/>\n",
    "\n",
    "\n",
    "<li> Run this command in the current directory=> <b>sudo dpkg -L elasticsearch</b></li><br/>\n",
    "\n",
    "<li> Run this command in the current directory=> <b>sudo nano /usr/lib/systemd/system/elasticsearch.service</b></li><br/>\n",
    "\n",
    "<li> Inside nano text editor find this line <b>ExecStart=/usr/share/elasticsearch/bin/elasticsearch -p ${PID_DIR}/elasticsearch.pid --quiet\n",
    "</b> <br/> and remove last ' --quiet' part</li><br/>\n",
    "\n",
    "<li> Now we will start the elastic search service. Run command=> <b>sudo systemctl start elasticsearch.service</b></li><br/>\n"
   ]
  },
  {
   "cell_type": "markdown",
   "metadata": {},
   "source": [
    "# Install Kibana"
   ]
  },
  {
   "cell_type": "markdown",
   "metadata": {},
   "source": [
    "\n",
    "<li> You can install the Kibana Debian package with: Run command=> <b>sudo apt-get update && sudo apt-get install kibana</b></li><br/>\n",
    "\n",
    "<li> Run command=> <b>sudo nano /etc/kibana/kibana.yml</b> <br/> Inside nano text editor uncomment following this two line.<br/> server.port: 5601\n",
    "<br/> server.host: \"localhost\"\n",
    "</li><br/>\n",
    "\n",
    "<li> Run command=> <b>cd /usr/share/kibana/bin/</b></li><br/>\n",
    "\n",
    "<li> Run command=> <b>sudo ./kibana-plugin install x-pack</b></li><br/>\n",
    "\n",
    "<li> Run command=> <b>cd /usr/share/elasticsearch/bin/</b></li><br/>\n",
    "\n",
    "<li> Run command=> <b>sudo ./elasticsearch-setup-passwords interactive</b></li><br/>\n",
    "\n",
    "<li> Run command=> <b></b></li><br/>\n",
    "\n",
    "<li> Run command=> <b></b></li><br/>"
   ]
  },
  {
   "cell_type": "code",
   "execution_count": null,
   "metadata": {},
   "outputs": [],
   "source": [
    "<b></b>\n",
    "<li></li>"
   ]
  }
 ],
 "metadata": {
  "kernelspec": {
   "display_name": "Python 3",
   "language": "python",
   "name": "python3"
  },
  "language_info": {
   "codemirror_mode": {
    "name": "ipython",
    "version": 3
   },
   "file_extension": ".py",
   "mimetype": "text/x-python",
   "name": "python",
   "nbconvert_exporter": "python",
   "pygments_lexer": "ipython3",
   "version": "3.7.0"
  }
 },
 "nbformat": 4,
 "nbformat_minor": 2
}
