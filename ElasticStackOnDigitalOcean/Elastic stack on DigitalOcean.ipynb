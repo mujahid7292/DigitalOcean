{
 "cells": [
  {
   "cell_type": "markdown",
   "metadata": {},
   "source": [
    "We will use Ubuntu 16.04.4 x64 with 4cpu. Now we will foloow NodeJs DO server set up tutorial.<br/>\n",
    "Link of this tutorial <a href=\"https://www.youtube.com/watch?v=vhodRSw3rTc&list=PLl2J3uv6PkABlJJD3Yww_BHTzPhxceRyD&index=1\">Here</a>"
   ]
  },
  {
   "cell_type": "markdown",
   "metadata": {},
   "source": [
    "# Install ElasticSearch"
   ]
  },
  {
   "cell_type": "markdown",
   "metadata": {},
   "source": [
    "<li>First install java jre by command=> <b>sudo apt-get install openjdk-8-jre\n",
    "</b></li><br/>\n",
    "\n",
    "<li>Now Download and install the public signing key by command=> <b>wget -qO - https://artifacts.elastic.co/GPG-KEY-elasticsearch | sudo apt-key add -</b></li><br/>\n",
    "\n",
    "<li>You need to install the `apt-transport-https` package on Ubuntu before proceeding:=> <b>sudo apt-get install apt-transport-https</b></li><br/>\n",
    "\n",
    "<li>Save the repository definition to /etc/apt/sources.list.d/elastic-6.x.list:=> <b>echo \"deb https://artifacts.elastic.co/packages/6.x/apt stable main\" | sudo tee -a /etc/apt/sources.list.d/elastic-6.x.list\n",
    "</b></li><br/>\n",
    "\n",
    "<li>Now we can install the Elasticsearch Debian package with:=> <b>sudo apt-get update && sudo apt-get install elasticsearch</b></li><br/>\n",
    "\n",
    "<li>Now open the elasticsearch.yml file with nano text editor. Command=> <b>sudo nano /etc/elasticsearch/elasticsearch.yml</b> | We will set our setting later.</li><br/>\n",
    "\n",
    "<li>Before installing the x-pack package, first check our JAVA version <b>java --version</b></li><br/>\n",
    "\n",
    "<li>Now go to bin directory=> <b>cd /usr/share/elasticsearch/bin/\n",
    "</b></li><br/>\n",
    "\n",
    "<li>Run command=> <b>sudo ./elasticsearch-plugin install x-pack</b></li><br/>\n",
    "\n",
    "\n",
    "<li> Run this command in the current directory=> <b>sudo dpkg -L elasticsearch</b></li><br/>\n",
    "\n",
    "<li> Run this command in the current directory=> <b>sudo nano /usr/lib/systemd/system/elasticsearch.service</b></li><br/>\n",
    "\n",
    "<li> Inside nano text editor find this line <b>ExecStart=/usr/share/elasticsearch/bin/elasticsearch -p ${PID_DIR}/elasticsearch.pid --quiet\n",
    "</b> <br/> and remove last ' --quiet' part</li><br/>\n",
    "\n",
    "<li> Now we will start the elastic search service. Run command=> <b>sudo systemctl start elasticsearch.service</b></li><br/>\n"
   ]
  },
  {
   "cell_type": "markdown",
   "metadata": {},
   "source": [
    "# Install Kibana"
   ]
  },
  {
   "cell_type": "markdown",
   "metadata": {},
   "source": [
    "\n",
    "<li> You can install the Kibana Debian package with: Run command=> <b>sudo apt-get update && sudo apt-get install kibana</b></li><br/>\n",
    "\n",
    "<li> Run command=> <b>sudo nano /etc/kibana/kibana.yml</b> <br/> Inside nano text editor uncomment following this two line.<br/> server.port: 5601 (in 5901 vnc viewer run)\n",
    "<br/> server.host: \"0.0.0.0\" <br/>\n",
    "server host must be set to \"0.0.0.0\", if not then remote connection to kibana will not be possible.\n",
    "</li><br/>\n",
    "\n",
    "<li>We have to change the password of our elastic search. So go to the folder, from where we will change elastic search's password. Run command=> <b>cd /usr/share/elasticsearch/bin/</b></li><br/>\n",
    "\n",
    "<li>You will be able to change the elastic search password only one time so be very care full about that.To change the password Run this command=> <b>sudo ./elasticsearch-setup-passwords interactive</b></li><br/>\n",
    "\n",
    "<li>After changing the password, we will curl to our elastic search by:=> <b> curl -u elastic -X GET \"localhost:9200\"\n",
    "</b></li><br/>\n",
    "\n",
    "<li>We have to add password to our kibana. So cd to kibana.yml folder:=> <b>cd /etc/kibana/</b></li><br/>\n",
    "\n",
    "<li>Edit kibana.yml file using nano text editor. Run command=> <b>sudo nano kibana.yml</b></li><br/>\n",
    "\n",
    "<li> Uncomment below two line & change username to mujahid7292 & password to ********<br/>\n",
    "    elasticsearch.username: \"mujahid7292\"<br/>\n",
    "    elasticsearch.password: \"**********\"<br/>\n",
    "\n",
    "</li><br/>\n",
    "\n",
    "<li>To configure Kibana to start automatically when the system boots up, run the following commands:=> <b><br/>\n",
    "   sudo /bin/systemctl daemon-reload<br/>\n",
    "   sudo /bin/systemctl enable kibana.service\n",
    "</b>\n",
    "</li><br/>\n",
    "\n",
    "<li>Now start the kibana instance. Run command=> <b>sudo systemctl start kibana.service</b></li><br/>\n",
    "\n",
    "<li>To check whether kibana has started or not we can run this command=> <b>sudo journalctl -f --unit kibana</b></li><br/>\n",
    "\n",
    "<li>Now see whether port 5601 is open outside of local host by Running command=> <b>sudo ss -tln | grep 5601</b> <br/>\n",
    "Returned result should look like this: <b>LISTEN     0      128          *:5601                *:*</b><br/>\n",
    "Shoud not look like this: <b>LISTEN     0      128    127.0.0.1:5601 </b>\n",
    "</li><br/>\n",
    "\n",
    "<li> If port 5601 is not allowed for outside connection,Run command=> <b>sudo ufw allow 5601</b></li><br/>\n",
    "\n",
    "<li> Run command=> <b></b></li><br/>\n",
    "\n",
    "<li> Run command=> <b></b></li><br/>\n"
   ]
  },
  {
   "cell_type": "code",
   "execution_count": null,
   "metadata": {},
   "outputs": [],
   "source": [
    "<b></b>\n",
    "<li></li>"
   ]
  }
 ],
 "metadata": {
  "kernelspec": {
   "display_name": "Python 3",
   "language": "python",
   "name": "python3"
  },
  "language_info": {
   "codemirror_mode": {
    "name": "ipython",
    "version": 3
   },
   "file_extension": ".py",
   "mimetype": "text/x-python",
   "name": "python",
   "nbconvert_exporter": "python",
   "pygments_lexer": "ipython3",
   "version": "3.7.0"
  }
 },
 "nbformat": 4,
 "nbformat_minor": 2
}
