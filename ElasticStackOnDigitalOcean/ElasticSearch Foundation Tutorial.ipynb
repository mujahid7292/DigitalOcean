{
 "cells": [
  {
   "cell_type": "markdown",
   "metadata": {},
   "source": [
    "# Search URL"
   ]
  },
  {
   "cell_type": "code",
   "execution_count": 2,
   "metadata": {},
   "outputs": [],
   "source": [
    "# http://159.89.204.137:9200/customer/id/1\n",
    "#\"_index\" : \"customer\",\n",
    "#\"_type\" : \"id\",\n",
    "#\"_id\" : \"1\","
   ]
  },
  {
   "cell_type": "markdown",
   "metadata": {},
   "source": [
    "#### Summary:\n",
    "RDBMS ->Database ->Tables ->Columns/Rows <br/>\n",
    "ElasticSearch ->Index ->Types ->Documents With Properties"
   ]
  },
  {
   "cell_type": "markdown",
   "metadata": {},
   "source": [
    "# Cluster"
   ]
  },
  {
   "cell_type": "markdown",
   "metadata": {},
   "source": [
    "Cluster is a collection of one or more node. Here i am showing one cluster, which have two Node. Inside each node there are two shards & two replica.\n",
    "\n",
    "<img src=\"img/Cluster.png\" width=600 height=400 >"
   ]
  },
  {
   "cell_type": "markdown",
   "metadata": {},
   "source": [
    "# Node"
   ]
  },
  {
   "cell_type": "markdown",
   "metadata": {},
   "source": [
    "Node is single server. By default we call Node as UUID. To see number of Node running in our elasticsearch, run this command in kibana Dev Tools:"
   ]
  },
  {
   "cell_type": "code",
   "execution_count": null,
   "metadata": {},
   "outputs": [],
   "source": [
    "GET /_cat/indices?v&pretty\n",
    "\n",
    "#Return\n",
    "health   status   index             uuid            pri    rep     docs.count   docs.deleted    store.size      pri.store.size\n",
    "yellow    open   customer   LJYzyw3mT1GUmiOJ2bBdJA   5      1          0             0             460b              460b"
   ]
  },
  {
   "cell_type": "markdown",
   "metadata": {},
   "source": [
    "# Elastic Search API\n",
    "\n",
    "**1) Document API**<br/>\n",
    "**2) Search API**<br/>\n",
    "**3) Indices API**<br/>\n",
    "**4) Cat API**<br/>\n",
    "**5) Cluster API**<br/>"
   ]
  },
  {
   "cell_type": "markdown",
   "metadata": {},
   "source": [
    "## 1) Document API"
   ]
  },
  {
   "cell_type": "markdown",
   "metadata": {},
   "source": [
    "Document API is two types:\n",
    "    <img src=\"img/DocumentAPI.png\" width=800 height=400 >"
   ]
  },
  {
   "cell_type": "markdown",
   "metadata": {},
   "source": [
    "### Single Document APIs\n"
   ]
  },
  {
   "cell_type": "markdown",
   "metadata": {},
   "source": [
    "##### a) Index API\n",
    "The index api adds or updates a typed json document in a specific index, making it searchable."
   ]
  },
  {
   "cell_type": "code",
   "execution_count": null,
   "metadata": {},
   "outputs": [],
   "source": [
    "# Add & Update is same method. In update to change single parameter we have to pass whole document.\n",
    "POST customer/id/1\n",
    "{\n",
    "  \"Account_Name\":\"Saifullah al Mujahid\",\n",
    "  \"Email\":\"mujahid7292@gmail.com\",\n",
    "  \"Type\":\"Individual\",\n",
    "  \"City\":\"Dhaka\",\n",
    "  \"Province\":\"Dhaka Division\",\n",
    "  \"Country\":\"Bangladesh\"\n",
    "}"
   ]
  },
  {
   "cell_type": "markdown",
   "metadata": {},
   "source": [
    "Here:<br/>\n",
    "`POST = HTTP method name`<br/>\n",
    "`customer = Index name`<br/>\n",
    "`id = In sql it is table name, here it is type name`<br/>\n",
    "`1 = In sql it is row number, here it is document number`<br/>"
   ]
  },
  {
   "cell_type": "markdown",
   "metadata": {},
   "source": [
    "##### b) Get API"
   ]
  },
  {
   "cell_type": "markdown",
   "metadata": {},
   "source": [
    "To retrieve customer 1 run<br/>\n",
    "`GET customer/id/1`\n",
    "\n",
    "To retrieve all the customer in the type =id run<br/>\n",
    "`GET customer/id/_search`<br/>\n",
    "or<br/>\n",
    "`GET customer/id/_search?q=*`\n",
    "\n",
    "To retrieve all the customer whose name start with 'Mu' & lives in dhaka, run<br/>\n",
    "`GET customer/_search?default_operator=AND&q=Mu*+City:Dhaka`"
   ]
  },
  {
   "cell_type": "markdown",
   "metadata": {},
   "source": [
    "Kibana Dev Tools Dashboard by default return only 10 documents. To retrieved 1000 documents run:\n",
    "`GET customer/id/_search?size=1000`"
   ]
  },
  {
   "cell_type": "markdown",
   "metadata": {},
   "source": [
    "##### c) Delete API"
   ]
  },
  {
   "cell_type": "markdown",
   "metadata": {},
   "source": [
    "To delete single record run:<br/>\n",
    "`DELETE customer/id/1`<br/>\n",
    "\n",
    "To delete customer index run:<br/>\n",
    "`DELETE customer`<br/>"
   ]
  },
  {
   "cell_type": "markdown",
   "metadata": {},
   "source": [
    "### Multi Document APIs"
   ]
  },
  {
   "cell_type": "markdown",
   "metadata": {},
   "source": [
    "##### a) Multi Get API"
   ]
  },
  {
   "cell_type": "code",
   "execution_count": null,
   "metadata": {},
   "outputs": [],
   "source": []
  },
  {
   "cell_type": "markdown",
   "metadata": {},
   "source": [
    "##### b) Bulk API"
   ]
  },
  {
   "cell_type": "code",
   "execution_count": null,
   "metadata": {},
   "outputs": [],
   "source": []
  },
  {
   "cell_type": "markdown",
   "metadata": {},
   "source": [
    "##### c) Delete By Query API"
   ]
  },
  {
   "cell_type": "markdown",
   "metadata": {},
   "source": [
    "Lets say we want to delete all the data from City=Dhaka; In this case we will run:"
   ]
  },
  {
   "cell_type": "code",
   "execution_count": null,
   "metadata": {},
   "outputs": [],
   "source": [
    "POST customer/id/_delete_by_query\n",
    "{\n",
    "  \"query\":{\n",
    "    \"match\":{\n",
    "      \"City\":\"Dhaka\"\n",
    "    }\n",
    "  }\n",
    "}"
   ]
  },
  {
   "cell_type": "markdown",
   "metadata": {},
   "source": [
    "Lets say we want to delete all the data from Email = mujahid7292@gmail.com In this case we will run(This query create problem in kibana, it empty the whole cutomer index):"
   ]
  },
  {
   "cell_type": "code",
   "execution_count": null,
   "metadata": {},
   "outputs": [],
   "source": [
    "POST customer/id/_delete_by_query\n",
    "{\n",
    "  \"query\":{\n",
    "    \"match\":{\n",
    "      \"Email\":\"mujahid7292@gmail.com\"\n",
    "    }\n",
    "  }\n",
    "}"
   ]
  },
  {
   "cell_type": "markdown",
   "metadata": {},
   "source": [
    "##### d) Update By Query API"
   ]
  },
  {
   "cell_type": "code",
   "execution_count": null,
   "metadata": {},
   "outputs": [],
   "source": []
  },
  {
   "cell_type": "markdown",
   "metadata": {},
   "source": [
    "##### e) Reindex API"
   ]
  },
  {
   "cell_type": "code",
   "execution_count": null,
   "metadata": {},
   "outputs": [],
   "source": []
  }
 ],
 "metadata": {
  "kernelspec": {
   "display_name": "Python 3",
   "language": "python",
   "name": "python3"
  },
  "language_info": {
   "codemirror_mode": {
    "name": "ipython",
    "version": 3
   },
   "file_extension": ".py",
   "mimetype": "text/x-python",
   "name": "python",
   "nbconvert_exporter": "python",
   "pygments_lexer": "ipython3",
   "version": "3.7.0"
  }
 },
 "nbformat": 4,
 "nbformat_minor": 2
}
