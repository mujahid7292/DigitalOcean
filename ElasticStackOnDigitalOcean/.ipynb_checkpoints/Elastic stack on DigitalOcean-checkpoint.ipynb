{
 "cells": [
  {
   "cell_type": "markdown",
   "metadata": {},
   "source": [
    "We will use Ubuntu 16.04.4 x64 with 4cpu. Now we will foloow NodeJs DO server set up tutorial."
   ]
  },
  {
   "cell_type": "markdown",
   "metadata": {},
   "source": [
    "# Install ElasticSearch"
   ]
  },
  {
   "cell_type": "markdown",
   "metadata": {},
   "source": [
    "<li>First install java jre by command=> <b>sudo apt-get install openjdk-8-jre\n",
    "</b></li>\n",
    "\n",
    "<li>Now Download and install the public signing key by command=> <b>wget -qO - https://artifacts.elastic.co/GPG-KEY-elasticsearch | sudo apt-key add -</b></li>\n",
    "\n",
    "<li>You need to install the `apt-transport-https` package on Ubuntu before proceeding:=> <b>sudo apt-get install apt-transport-https</b></li>\n",
    "\n",
    "<li>Save the repository definition to /etc/apt/sources.list.d/elastic-6.x.list:=> <b>echo \"deb https://artifacts.elastic.co/packages/6.x/apt stable main\" | sudo tee -a /etc/apt/sources.list.d/elastic-6.x.list\n",
    "</b></li>\n",
    "\n",
    "<li>Now we can install the Elasticsearch Debian package with:=> <b>sudo apt-get update && sudo apt-get install elasticsearch</b></li>\n",
    "\n",
    "<li>Now open the elasticsearch.yml file with nano text editor. Command=> <b>sudo nano /etc/elasticsearch/elasticsearch.yml</b> | We will set our setting later.</li>\n",
    "\n",
    "<li>Before installing the x-pack package, first check our JAVA version <b>java --version</b></li>\n",
    "\n",
    "<li>Now go to bin directory=> <b>cd /usr/share/elasticsearch/bin/\n",
    "</b></li>\n",
    "\n",
    "<li>Run command=> <b>./elasticsearch-plugin install x-pack</b></li>\n",
    "\n",
    "\n",
    "<li> <b></b></li>\n",
    "<li> <b></b></li>"
   ]
  },
  {
   "cell_type": "code",
   "execution_count": null,
   "metadata": {},
   "outputs": [],
   "source": [
    "<b></b>\n",
    "<li></li>"
   ]
  }
 ],
 "metadata": {
  "kernelspec": {
   "display_name": "Python 3",
   "language": "python",
   "name": "python3"
  },
  "language_info": {
   "codemirror_mode": {
    "name": "ipython",
    "version": 3
   },
   "file_extension": ".py",
   "mimetype": "text/x-python",
   "name": "python",
   "nbconvert_exporter": "python",
   "pygments_lexer": "ipython3",
   "version": "3.7.0"
  }
 },
 "nbformat": 4,
 "nbformat_minor": 2
}
