{
 "cells": [
  {
   "cell_type": "markdown",
   "metadata": {},
   "source": [
    "# Tutorial for this app.Click on the youtube logo."
   ]
  },
  {
   "cell_type": "markdown",
   "metadata": {},
   "source": [
    "<a href=\"http://www.youtube.com/watch?feature=player_embedded&v=RE2PLyFqCzE&t=1s\n",
    "\" target=\"_blank\"><img src=\"https://d1afx9quaogywf.cloudfront.net/sites/default/files/Logos/YouTube.png\" \n",
    "alt=\"IMAGE ALT TEXT HERE\" width=\"350\" height=\"180\" border=\"10\" /></a>"
   ]
  },
  {
   "cell_type": "markdown",
   "metadata": {},
   "source": [
    "We need SSH key to work with digital ocean server. To generate SSH key, we will use puttyGen. Link to download putty gen. https://www.chiark.greenend.org.uk/~sgtatham/putty/latest.html  We will download putty.exe & puttygen.exe. Then we will create a folder in C drive & paste those two file there."
   ]
  },
  {
   "cell_type": "markdown",
   "metadata": {},
   "source": [
    "To create SSH key in windows machine run puttygen.exe Now click on 'Generate' button. While application is generating SSH key, you should move your mouse to bring some randomness in the SSH key. Now copy the public key & paste it into DO new key's folder."
   ]
  },
  {
   "cell_type": "markdown",
   "metadata": {},
   "source": [
    "Before closing puttygen.exe, we should save our public & private key in the secure place. Save public key as .txt extension and private key as .ppk extension. Now go click on 'create' button. It will create our server."
   ]
  },
  {
   "cell_type": "markdown",
   "metadata": {},
   "source": [
    "# Connect To DO Server Using Putty"
   ]
  },
  {
   "cell_type": "markdown",
   "metadata": {},
   "source": [
    "<ul>\n",
    "    <li>Open putty.exe</li>\n",
    "    <li>Add DO server IP address inside putty's Host Name(Ip Address) edittext</li>\n",
    "    <li>Create a profile in putty. So that we can login future easily.</li>\n",
    "    <li>Select from left hand side menu. Connection=>Data. As we did not create an user name yet, we will use root as our user name (later we will stop access to root user)</li>\n",
    "    <li>Select from left hand side menu. SSH=>Auth. Here we will upload our private key in \"Private key file for authentication\" edittext.</li>\n",
    "    <li>Now we will select from left hand side menu. Sessoin=> In \"Saved Session\" we will write korjjo. The we will save this korjjo session.</li>\n",
    "    <li>Now we will press 'Open' button below</li>\n",
    "</ul>\n"
   ]
  },
  {
   "cell_type": "markdown",
   "metadata": {},
   "source": [
    "# Create New User"
   ]
  },
  {
   "cell_type": "markdown",
   "metadata": {},
   "source": [
    "<ul>\n",
    "    <li>To add new user we will run this command <b>adduser mujahid</b> in putty command line.</li>\n",
    "    <li>Enter choosen password.</li>\n",
    "    <li>We can check whether our new user is created by <b>id mujahid</b></li>\n",
    "    <li>Note that mujahid is not in sudo group. We will add mujahid in sudo group so that he can run server as administrator. Command for adding mujahid in sudo group <b>usermod -aG sudo mujahid</b>. We will confirm this by <b>id mujahid</b></li>\n",
    "    <li>As currently we are logged in as root user. Now we will log in as mujahid. So command for that <b>sudo su - mujahid</b> . Now you will see that prompt has been changed to mujahid@NodeJsServer:~$ from root@NodeJsServer:~#</li>\n",
    "    <li>If we want to check whether we are logged in as root or mujahid, we will run <b>whoami</b></li>\n",
    "</ul>"
   ]
  },
  {
   "cell_type": "markdown",
   "metadata": {},
   "source": [
    "# Authorize Key For New User"
   ]
  },
  {
   "cell_type": "markdown",
   "metadata": {},
   "source": [
    "  <ul>  \n",
    "    <li>We will create a SSH directory in our servers ubuntu machine. Command=> <b>mkdir ~/.ssh</b> This (~) means in our home directory.</li>\n",
    "    <li>We will change the permission to 700. Command=> <b>chmod 700 ~/.ssh</b></li>\n",
    "    <li>Now we will create a file called authorized_keys in our home directory & paste our public key in there.</li>\n",
    "    <li>We will create & write authorized_keys file by text editor nano. Command=> <b>nano ~/.ssh/authorized_keys</b> This command will create a file called authorized_keys & will open this file in nano text editor.</li>\n",
    "    <li>Now we will open up publickey.txt file from my laptop. Copy the key and paste it to nano editor. Command=><b>ssh-rsa KEY</b></li>\n",
    "    <li>This copy paste will not work, as space has been created while doing copy paste. So we have to manually remove space from every lines end.</li>\n",
    "    <li>When all the public key in single line we will press ctrl+x to exit out of nano editor.</li>\n",
    "    <li>Now we will change this files condition to 600. Command=> <b>chmod 600 ~/.ssh/authorized_keys</b></li>\n",
    "    <li>Now we will restart the SSH service. Command=> <b>sudo service ssh restart</b></li>\n",
    "    <li>Now we will go back to putty.exe & will try to access our server using username: mujahid</li>\n",
    "   </ul>"
   ]
  },
  {
   "cell_type": "markdown",
   "metadata": {},
   "source": [
    "# Remove root log in & password login"
   ]
  },
  {
   "cell_type": "markdown",
   "metadata": {},
   "source": [
    "<ul>\n",
    "    <li>To remove root login & password login we have to edit a file inside our server. File name is sshd_config.</li>\n",
    "    <li>We will edit this file using our nano editor. Command for opening this file using nano editor => <b>sudo nano /etc/ssh/sshd_config</b></li>\n",
    "    <li>Inside the nano editor we will search by ctrl+w & search for the word <b>PermitRootLogin</b></li>\n",
    "    <li>PermitRootLogin=yes change it to PermitRootLogin=no</li>\n",
    "    <li>We will again serach inside the nano editor by ctrl+w search for the word <b>PasswordAuthentication</b></li>\n",
    "    <li>PasswordAuthentication=yes set this to PasswordAuthentication=no</li>\n",
    "    <li>Now press ctrl+x and save.</li>\n",
    "    <li>Mow we will reload the sshd by command => <b>sudo systemctl reload sshd</b></li>\n",
    "</ul>"
   ]
  },
  {
   "cell_type": "markdown",
   "metadata": {},
   "source": [
    "# Install Node.Js"
   ]
  },
  {
   "cell_type": "markdown",
   "metadata": {},
   "source": [
    "<ul>\n",
    "    <li></li>\n",
    "    <li></li>\n",
    "    <li></li>\n",
    "    <li></li>\n",
    "</ul>"
   ]
  },
  {
   "cell_type": "code",
   "execution_count": null,
   "metadata": {},
   "outputs": [],
   "source": []
  }
 ],
 "metadata": {
  "kernelspec": {
   "display_name": "Python 3",
   "language": "python",
   "name": "python3"
  },
  "language_info": {
   "codemirror_mode": {
    "name": "ipython",
    "version": 3
   },
   "file_extension": ".py",
   "mimetype": "text/x-python",
   "name": "python",
   "nbconvert_exporter": "python",
   "pygments_lexer": "ipython3",
   "version": "3.7.0"
  }
 },
 "nbformat": 4,
 "nbformat_minor": 2
}
