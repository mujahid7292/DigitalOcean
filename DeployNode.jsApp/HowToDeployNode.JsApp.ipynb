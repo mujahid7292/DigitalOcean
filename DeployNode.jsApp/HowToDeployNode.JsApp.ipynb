{
 "cells": [
  {
   "cell_type": "markdown",
   "metadata": {},
   "source": [
    "Tutorial for this app.Click on the youtube logo."
   ]
  },
  {
   "cell_type": "markdown",
   "metadata": {},
   "source": [
    "<a href=\"http://www.youtube.com/watch?feature=player_embedded&v=RE2PLyFqCzE&t=1s\n",
    "\" target=\"_blank\"><img src=\"https://d1afx9quaogywf.cloudfront.net/sites/default/files/Logos/YouTube.png\" \n",
    "alt=\"IMAGE ALT TEXT HERE\" width=\"350\" height=\"180\" border=\"10\" /></a>"
   ]
  },
  {
   "cell_type": "markdown",
   "metadata": {},
   "source": [
    "We need SSH key to work with digital ocean server. To generate SSH key, we will use puttyGen. Link to download putty gen. https://www.chiark.greenend.org.uk/~sgtatham/putty/latest.html  We will download putty.exe & puttygen.exe. Then we will create a folder in C drive & paste those two file there."
   ]
  },
  {
   "cell_type": "markdown",
   "metadata": {},
   "source": [
    "To create SSH key in windows machine run puttygen.exe Now click on 'Generate' button. While application is generating SSH key, you should move your mouse to bring some randomness in the SSH key. Now copy the public key & paste it into DO new key's folder."
   ]
  },
  {
   "cell_type": "markdown",
   "metadata": {},
   "source": [
    "Before closing puttygen.exe, we should save our public & private key in the secure place. Save public key as .txt extension and private key as .ppk extension. Now go click on 'create' button. It will create our server."
   ]
  },
  {
   "cell_type": "markdown",
   "metadata": {},
   "source": [
    "# Connect To DO Server Using Putty"
   ]
  },
  {
   "cell_type": "markdown",
   "metadata": {},
   "source": [
    "<ul>\n",
    "    <li>Open putty.exe</li>\n",
    "    <li>Add DO server IP address inside putty's Host Name(Ip Address) edittext</li>\n",
    "    <li>Create a profile in putty. So that we can login future easily.</li>\n",
    "    <li>Select from left hand side menu. Connection=>Data. As we did not create an user name yet, we will use root as our user name (later we will stop access to root user)</li>\n",
    "    <li>Select from left hand side menu. SSH=>Auth. Here we will upload our private key in \"Private key file for authentication\" edittext.</li>\n",
    "    <li>Now we will select from left hand side menu. Sessoin=> In \"Saved Session\" we will write korjjo. The we will save this korjjo session.</li>\n",
    "    <li>Now we will press 'Open' button below</li>\n",
    "</ul>\n"
   ]
  },
  {
   "cell_type": "code",
   "execution_count": null,
   "metadata": {},
   "outputs": [],
   "source": []
  }
 ],
 "metadata": {
  "kernelspec": {
   "display_name": "Python 3",
   "language": "python",
   "name": "python3"
  },
  "language_info": {
   "codemirror_mode": {
    "name": "ipython",
    "version": 3
   },
   "file_extension": ".py",
   "mimetype": "text/x-python",
   "name": "python",
   "nbconvert_exporter": "python",
   "pygments_lexer": "ipython3",
   "version": "3.7.0"
  }
 },
 "nbformat": 4,
 "nbformat_minor": 2
}
